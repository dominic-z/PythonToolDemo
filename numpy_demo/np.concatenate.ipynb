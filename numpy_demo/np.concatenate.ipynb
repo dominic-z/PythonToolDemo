{
 "cells": [
  {
   "cell_type": "code",
   "execution_count": 4,
   "metadata": {},
   "outputs": [
    {
     "name": "stdout",
     "output_type": "stream",
     "text": [
      "axis=1进行concatenate，结果的shape为\n",
      "(2, 6, 4)\n",
      "\n",
      "其中concat_arr[0,:,:]由arr_1[0,:,:]和arr_2[0,:,:]组成\n",
      "\n",
      "arr_1[0,:,:]\n",
      "[[0.92773072 0.30747522 0.18020408 0.99900743]\n",
      " [0.97811302 0.81397917 0.80306724 0.8036959 ]\n",
      " [0.87089694 0.77651777 0.40905675 0.13842554]]\n",
      "\n",
      "arr_2[0,:,:]\n",
      "[[8.36245156e-04 9.11925711e-01 1.83514739e-02 5.88167475e-01]\n",
      " [6.40638720e-01 7.37050091e-01 3.82265194e-01 1.68422714e-01]\n",
      " [6.20338517e-01 7.52650208e-01 1.15811973e-01 2.22515785e-01]]\n",
      "\n",
      "concat_arr[0,:,:]\n",
      "[[9.27730725e-01 3.07475220e-01 1.80204078e-01 9.99007430e-01]\n",
      " [9.78113017e-01 8.13979165e-01 8.03067242e-01 8.03695899e-01]\n",
      " [8.70896943e-01 7.76517770e-01 4.09056748e-01 1.38425541e-01]\n",
      " [8.36245156e-04 9.11925711e-01 1.83514739e-02 5.88167475e-01]\n",
      " [6.40638720e-01 7.37050091e-01 3.82265194e-01 1.68422714e-01]\n",
      " [6.20338517e-01 7.52650208e-01 1.15811973e-01 2.22515785e-01]]\n"
     ]
    }
   ],
   "source": [
    "import numpy as np\n",
    "\n",
    "arr_1=np.random.random(size=[2,3,4])\n",
    "arr_2=np.random.random(size=[2,3,4])\n",
    "\n",
    "concat_arr=np.concatenate([arr_1,arr_2],axis=1)\n",
    "\n",
    "print(\"axis=1进行concatenate，结果的shape为\")\n",
    "print(concat_arr.shape)\n",
    "\n",
    "print(\"\\n其中concat_arr[0,:,:]由arr_1[0,:,:]和arr_2[0,:,:]组成\")\n",
    "print(\"\\narr_1[0,:,:]\")\n",
    "print(arr_1[0,:,:])\n",
    "print(\"\\narr_2[0,:,:]\")\n",
    "print(arr_2[0,:,:])\n",
    "\n",
    "print(\"\\nconcat_arr[0,:,:]\")\n",
    "print(concat_arr[0,:,:])"
   ]
  },
  {
   "cell_type": "markdown",
   "metadata": {},
   "source": [
    "这可能是numpy里用到最多的方法了，简单含义就是拼接，将不同的arr根据某一个轴进行拼接\n",
    "\n"
   ]
  },
  {
   "cell_type": "code",
   "execution_count": null,
   "metadata": {},
   "outputs": [],
   "source": []
  }
 ],
 "metadata": {
  "kernelspec": {
   "display_name": "Python 3",
   "language": "python",
   "name": "python3"
  },
  "language_info": {
   "codemirror_mode": {
    "name": "ipython",
    "version": 3
   },
   "file_extension": ".py",
   "mimetype": "text/x-python",
   "name": "python",
   "nbconvert_exporter": "python",
   "pygments_lexer": "ipython3",
   "version": "3.7.9"
  }
 },
 "nbformat": 4,
 "nbformat_minor": 4
}

{
 "cells": [
  {
   "cell_type": "code",
   "execution_count": 4,
   "metadata": {
    "collapsed": true
   },
   "outputs": [
    {
     "name": "stdout",
     "output_type": "stream",
     "text": [
      "(4, 5, 6, 2)\n"
     ]
    }
   ],
   "source": [
    "import numpy as np\n",
    "arr1=np.random.random([4,5,6,2])\n",
    "arr2=np.ones([1,2])\n",
    "\n",
    "res=arr1+arr2\n",
    "print(res.shape)\n",
    "\n",
    "# 将arr2看做[1,1,1,2]\n",
    "# 两个arr从最后一个axis开始对齐，不足的位置补充0"
   ]
  },
  {
   "cell_type": "markdown",
   "source": [
    "[numpy的广播(Broadcasting)](https://zhuanlan.zhihu.com/p/35010592)\n"
   ],
   "metadata": {
    "collapsed": false,
    "pycharm": {
     "name": "#%% md\n"
    }
   }
  }
 ],
 "metadata": {
  "kernelspec": {
   "display_name": "Python 3",
   "language": "python",
   "name": "python3"
  },
  "language_info": {
   "codemirror_mode": {
    "name": "ipython",
    "version": 2
   },
   "file_extension": ".py",
   "mimetype": "text/x-python",
   "name": "python",
   "nbconvert_exporter": "python",
   "pygments_lexer": "ipython2",
   "version": "2.7.6"
  }
 },
 "nbformat": 4,
 "nbformat_minor": 0
}
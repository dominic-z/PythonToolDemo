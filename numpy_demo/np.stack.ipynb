{
 "cells": [
  {
   "cell_type": "code",
   "execution_count": 14,
   "metadata": {},
   "outputs": [
    {
     "name": "stdout",
     "output_type": "stream",
     "text": [
      "\n",
      "axis=1的结果shape为\n",
      "(2, 2, 3, 4)\n",
      "\n",
      " stack_arr[0,:,:,:]\n",
      "[[[0.53503232 0.8291595  0.81140409 0.91255648]\n",
      "  [0.97673858 0.51003444 0.43274454 0.68540607]\n",
      "  [0.90300592 0.03182101 0.06356502 0.76907165]]\n",
      "\n",
      " [[0.04372768 0.05806406 0.63300233 0.96629642]\n",
      "  [0.55370505 0.47127886 0.39222862 0.51243251]\n",
      "  [0.17667828 0.80985234 0.84676066 0.75104963]]]\n",
      "\n",
      " stack_arr[0,:,:,:] 由arr_1[0,:,:]和arr_2[0,:,:]组成\n",
      "[[0.53503232 0.8291595  0.81140409 0.91255648]\n",
      " [0.97673858 0.51003444 0.43274454 0.68540607]\n",
      " [0.90300592 0.03182101 0.06356502 0.76907165]]\n",
      "[[0.04372768 0.05806406 0.63300233 0.96629642]\n",
      " [0.55370505 0.47127886 0.39222862 0.51243251]\n",
      " [0.17667828 0.80985234 0.84676066 0.75104963]]\n",
      "\n",
      "axis=1的结果shape为\n",
      "(2, 3, 2, 4)\n"
     ]
    }
   ],
   "source": [
    "import numpy as np\n",
    "\n",
    "arr_1=np.random.random(size=[2,3,4])\n",
    "arr_2=np.random.random(size=[2,3,4])\n",
    "\n",
    "stack_arr=np.stack(arrays=[arr_1,arr_2],axis=1)\n",
    "\n",
    "print(\"\\naxis=1的结果shape为\")\n",
    "print(stack_arr.shape)\n",
    "\n",
    "print('\\n stack_arr[0,:,:,:]')\n",
    "print(stack_arr[0,:,:,:])\n",
    "\n",
    "print('\\n stack_arr[0,:,:,:] 由arr_1[0,:,:]和arr_2[0,:,:]组成')\n",
    "print(arr_1[0,:,:])\n",
    "print(arr_2[0,:,:])\n",
    "\n",
    "stack_arr=np.stack(arrays=[arr_1,arr_2],axis=2)\n",
    "\n",
    "print(\"\\naxis=1的结果shape为\")\n",
    "print(stack_arr.shape)\n"
   ]
  },
  {
   "cell_type": "markdown",
   "metadata": {},
   "source": [
    "帮助理解的文章如下\n",
    "\n",
    "[Numpy中stack()，hstack()，vstack()函数详解](https://blog.csdn.net/csdn15698845876/article/details/73380803)\n",
    "文中箱子的含义只是帮助理解，但实际我觉得这个理解方式不是真正的含义，stack的意思是堆叠，\n",
    "对于两个形如`(3,3,2)`的array `a,b`，\n",
    "那么`res=np.stack((a,b),axis=1)`的含义是从二者的第1轴（从0算起）上取出元素进行堆叠，那么结果形状就应该是`(3,2,3,2)`。实际上做的就是`a[0,:,:]`与`b[0,:,:]`堆叠，构成`res[0,:,:,:]`，而又由于`res`只有两个`arr`组成，因此`res`的第1个axis上只会有两个维度，即0和1\n",
    "\n",
    "`np.stack((a,b),axis=3)`的含义是取出二者的第3轴上的元素进行堆叠，当然我知道是不存在第3轴，这个的含义就是对每个数进行堆叠，结果就应该是`(3,3,2,2)`\n",
    "至于上面的博客评论区对有没有增加维度的争论，其实对于a或者b来讲，是增加了的；但对于(a,b)整体来讲，的确没有增加维度。"
   ]
  },
  {
   "cell_type": "code",
   "execution_count": null,
   "metadata": {
    "pycharm": {
     "name": "#%%\n"
    }
   },
   "outputs": [],
   "source": []
  },
  {
   "cell_type": "code",
   "execution_count": 5,
   "metadata": {},
   "outputs": [
    {
     "data": {
      "text/plain": [
       "'1.19.2'"
      ]
     },
     "execution_count": 5,
     "metadata": {},
     "output_type": "execute_result"
    }
   ],
   "source": [
    "np.__version__"
   ]
  },
  {
   "cell_type": "code",
   "execution_count": null,
   "metadata": {},
   "outputs": [],
   "source": []
  }
 ],
 "metadata": {
  "kernelspec": {
   "display_name": "Python 3",
   "language": "python",
   "name": "python3"
  },
  "language_info": {
   "codemirror_mode": {
    "name": "ipython",
    "version": 3
   },
   "file_extension": ".py",
   "mimetype": "text/x-python",
   "name": "python",
   "nbconvert_exporter": "python",
   "pygments_lexer": "ipython3",
   "version": "3.7.9"
  }
 },
 "nbformat": 4,
 "nbformat_minor": 1
}
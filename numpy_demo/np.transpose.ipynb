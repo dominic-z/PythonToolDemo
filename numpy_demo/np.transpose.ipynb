{
 "cells": [
  {
   "cell_type": "code",
   "execution_count": 10,
   "metadata": {},
   "outputs": [
    {
     "name": "stdout",
     "output_type": "stream",
     "text": [
      "\n",
      "arr[1,2,3,4]就是transpose_arr[2,4,1,3]\n",
      "\n",
      "arr[1,2,3,4]: 0.7632090809235014\n",
      "transpose_arr[2,4,1,3]: 0.7632090809235014\n",
      "\n",
      "arr[1,2,:,4]就是transpose_arr[2,4,1,:]\n",
      "\n",
      "arr[1,2,:,4]: [0.34967008 0.44660231 0.67648239 0.76320908 0.4558518  0.46768178]\n",
      "transpose_arr[2,4,1,3]: [0.34967008 0.44660231 0.67648239 0.76320908 0.4558518  0.46768178]\n"
     ]
    }
   ],
   "source": [
    "import numpy as np\n",
    "\n",
    "arr=np.random.random(size=[4,5,6,7])\n",
    "\n",
    "transpose_arr=arr.transpose([1,3,0,2])\n",
    "\n",
    "info=\"\"\"\n",
    "arr[1,2,3,4]就是transpose_arr[2,4,1,3]\n",
    "\"\"\"\n",
    "print(info)\n",
    "print(\"arr[1,2,3,4]:\",arr[1,2,3,4])\n",
    "print(\"transpose_arr[2,4,1,3]:\",transpose_arr[2,4,1,3])\n",
    "\n",
    "info=\"\"\"\n",
    "arr[1,2,:,4]就是transpose_arr[2,4,1,:]\n",
    "\"\"\"\n",
    "print(info)\n",
    "print(\"arr[1,2,:,4]:\",arr[1,2,:,4])\n",
    "print(\"transpose_arr[2,4,1,3]:\",transpose_arr[2,4,1,:])"
   ]
  },
  {
   "cell_type": "markdown",
   "metadata": {},
   "source": [
    "所以说到底，transpose就是移动axis，在上面的例子里，相当于将arr的第0个axis挪到了第2个axis"
   ]
  },
  {
   "cell_type": "code",
   "execution_count": null,
   "metadata": {},
   "outputs": [],
   "source": []
  }
 ],
 "metadata": {
  "kernelspec": {
   "display_name": "Python 3",
   "language": "python",
   "name": "python3"
  },
  "language_info": {
   "codemirror_mode": {
    "name": "ipython",
    "version": 3
   },
   "file_extension": ".py",
   "mimetype": "text/x-python",
   "name": "python",
   "nbconvert_exporter": "python",
   "pygments_lexer": "ipython3",
   "version": "3.7.9"
  }
 },
 "nbformat": 4,
 "nbformat_minor": 4
}

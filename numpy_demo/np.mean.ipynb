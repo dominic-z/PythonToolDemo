{
 "cells": [
  {
   "cell_type": "code",
   "execution_count": 4,
   "metadata": {
    "collapsed": true
   },
   "outputs": [
    {
     "name": "stdout",
     "output_type": "stream",
     "text": [
      "mean_arr的shape为\n",
      "(2, 4, 5)\n",
      "20.0\n",
      "20.0\n"
     ]
    }
   ],
   "source": [
    "# axis参数\n",
    "import numpy as np\n",
    "arr=np.reshape(np.arange(0,120),newshape=[2,3,4,5])\n",
    "mean_arr=np.mean(arr,axis=1)\n",
    "\n",
    "print(\"mean_arr的shape为\")\n",
    "print(mean_arr.shape)\n",
    "\n",
    "print(\"\")\n",
    "print(np.mean(arr[0,:,0,0]))\n",
    "print(mean_arr[0,0,0])\n"
   ]
  },
  {
   "cell_type": "markdown",
   "source": [
    "对`arr[0,:,0,0]`求均值就是`mean_arr[0,0,0]`\n"
   ],
   "metadata": {
    "collapsed": false,
    "pycharm": {
     "name": "#%% md\n"
    }
   }
  }
 ],
 "metadata": {
  "kernelspec": {
   "display_name": "Python 3",
   "language": "python",
   "name": "python3"
  },
  "language_info": {
   "codemirror_mode": {
    "name": "ipython",
    "version": 3
   },
   "file_extension": ".py",
   "mimetype": "text/x-python",
   "name": "python",
   "nbconvert_exporter": "python",
   "pygments_lexer": "ipython3",
   "version": "3.7.9"
  }
 },
 "nbformat": 4,
 "nbformat_minor": 1
}
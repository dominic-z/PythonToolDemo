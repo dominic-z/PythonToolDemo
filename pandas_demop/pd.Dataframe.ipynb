{
 "cells": [
  {
   "cell_type": "code",
   "execution_count": 1,
   "metadata": {
    "collapsed": true
   },
   "outputs": [
    {
     "name": "stdout",
     "output_type": "stream",
     "text": [
      "   one two\n",
      "0    1   2\n",
      "1    2   2\n",
      "----\n",
      "修改前类型：\n",
      "one     int64\n",
      "two    object\n",
      "dtype: object\n",
      "----\n",
      "修改后类型\n",
      "one    int64\n",
      "two    int64\n",
      "dtype: object\n"
     ]
    }
   ],
   "source": [
    "# 修改列类型\n",
    "\n",
    "import pandas as pd\n",
    "\n",
    "data = pd.DataFrame([[1, \"2\"], [2, \"2\"]])\n",
    "data.columns = [\"one\", \"two\"]\n",
    "\n",
    "print(data)\n",
    "\n",
    "# 当前类型\n",
    "print(\"----\\n修改前类型：\")\n",
    "print(data.dtypes)\n",
    "\n",
    "# 类型转换\n",
    "data[[\"two\"]] = data[[\"two\"]].astype(int)\n",
    "\n",
    "# 修改后类型\n",
    "print(\"----\\n修改后类型\")\n",
    "print(data.dtypes)\n",
    "\n"
   ]
  },
  {
   "cell_type": "markdown",
   "source": [
    "修改值"
   ],
   "metadata": {
    "collapsed": false,
    "pycharm": {
     "name": "#%% md\n"
    }
   }
  },
  {
   "cell_type": "code",
   "execution_count": 9,
   "outputs": [
    {
     "name": "stdout",
     "output_type": "stream",
     "text": [
      "\n",
      "成功的修改方法，在本身上使用修改\n",
      "   one two\n",
      "0   10   2\n",
      "1   10   2\n",
      "\n",
      "错误的修改方法，在view上修改\n",
      "   one two\n",
      "0   20   2\n",
      "1   20   2\n"
     ]
    },
    {
     "name": "stderr",
     "output_type": "stream",
     "text": [
      "/Users/dominiczhu/opt/anaconda3/envs/PythonToolDemo/lib/python3.7/site-packages/pandas/core/indexing.py:670: SettingWithCopyWarning: \n",
      "A value is trying to be set on a copy of a slice from a DataFrame\n",
      "\n",
      "See the caveats in the documentation: https://pandas.pydata.org/pandas-docs/stable/user_guide/indexing.html#returning-a-view-versus-a-copy\n",
      "  iloc._setitem_with_indexer(indexer, value)\n"
     ]
    }
   ],
   "source": [
    "import pandas as pd\n",
    "\n",
    "data = pd.DataFrame([[1, \"2\"], [2, \"2\"]])\n",
    "data.columns = [\"one\", \"two\"]\n",
    "\n",
    "print(\"\\n成功的修改方法，在本身上使用修改\")\n",
    "data.iloc[:,0]=10\n",
    "print(data)\n",
    "\n",
    "print(\"\\n错误的修改方法，在view上修改，不过有可能修改成功的，因为dataframe何时返回view是不确定的\")\n",
    "data[\"one\"].iloc[:]=20\n",
    "print(data)"
   ],
   "metadata": {
    "collapsed": false,
    "pycharm": {
     "name": "#%%\n"
    }
   }
  },
  {
   "cell_type": "code",
   "execution_count": null,
   "outputs": [],
   "source": [
    "\n"
   ],
   "metadata": {
    "collapsed": false,
    "pycharm": {
     "name": "#%%\n"
    }
   }
  }
 ],
 "metadata": {
  "kernelspec": {
   "display_name": "Python 3",
   "language": "python",
   "name": "python3"
  },
  "language_info": {
   "codemirror_mode": {
    "name": "ipython",
    "version": 2
   },
   "file_extension": ".py",
   "mimetype": "text/x-python",
   "name": "python",
   "nbconvert_exporter": "python",
   "pygments_lexer": "ipython2",
   "version": "2.7.6"
  }
 },
 "nbformat": 4,
 "nbformat_minor": 0
}
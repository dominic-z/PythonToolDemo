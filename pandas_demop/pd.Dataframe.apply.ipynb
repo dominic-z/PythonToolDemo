{
 "cells": [
  {
   "cell_type": "markdown",
   "metadata": {
    "collapsed": true,
    "pycharm": {
     "name": "#%% md\n"
    }
   },
   "source": [
    "apply操作"
   ]
  },
  {
   "cell_type": "code",
   "execution_count": 14,
   "outputs": [
    {
     "name": "stdout",
     "output_type": "stream",
     "text": [
      "如果函数返回多个值，结果是个df\n"
     ]
    },
    {
     "data": {
      "text/plain": "   one two\n0    4   2\n1    1   3\n2    5  23",
      "text/html": "<div>\n<style scoped>\n    .dataframe tbody tr th:only-of-type {\n        vertical-align: middle;\n    }\n\n    .dataframe tbody tr th {\n        vertical-align: top;\n    }\n\n    .dataframe thead th {\n        text-align: right;\n    }\n</style>\n<table border=\"1\" class=\"dataframe\">\n  <thead>\n    <tr style=\"text-align: right;\">\n      <th></th>\n      <th>one</th>\n      <th>two</th>\n    </tr>\n  </thead>\n  <tbody>\n    <tr>\n      <th>0</th>\n      <td>4</td>\n      <td>2</td>\n    </tr>\n    <tr>\n      <th>1</th>\n      <td>1</td>\n      <td>3</td>\n    </tr>\n    <tr>\n      <th>2</th>\n      <td>5</td>\n      <td>23</td>\n    </tr>\n  </tbody>\n</table>\n</div>"
     },
     "execution_count": 14,
     "metadata": {},
     "output_type": "execute_result"
    }
   ],
   "source": [
    "# axis=0时，函数被应用于每一列\n",
    "import pandas as pd\n",
    "\n",
    "data = pd.DataFrame([[4, \"2\"], [1, \"3\"]])\n",
    "data.columns = [\"one\", \"two\"]\n",
    "\n",
    "def apply_to_col(col):\n",
    "    return col[0],col[1],col[0]+col[1]\n",
    "\n",
    "res_df=data.apply(func=apply_to_col,axis=0)\n",
    "print(\"如果函数返回多个值，结果是个df\")\n",
    "res_df"
   ],
   "metadata": {
    "collapsed": false,
    "pycharm": {
     "name": "#%%\n"
    }
   }
  },
  {
   "cell_type": "code",
   "execution_count": 15,
   "outputs": [
    {
     "name": "stdout",
     "output_type": "stream",
     "text": [
      "结果是个series\n"
     ]
    },
    {
     "data": {
      "text/plain": "0    (4, 2, 42)\n1    (1, 3, 13)\ndtype: object"
     },
     "execution_count": 15,
     "metadata": {},
     "output_type": "execute_result"
    }
   ],
   "source": [
    "# axis=1时，函数被应用于每一行\n",
    "import pandas as pd\n",
    "\n",
    "data = pd.DataFrame([[4, \"2\"], [1, \"3\"]])\n",
    "data.columns = [\"one\", \"two\"]\n",
    "\n",
    "def apply_to_row(row):\n",
    "    return row[0],row[1],str(row[0])+row[1]\n",
    "\n",
    "res_df=data.apply(func=apply_to_row,axis=1)\n",
    "print(\"结果是个series\")\n",
    "res_df"
   ],
   "metadata": {
    "collapsed": false,
    "pycharm": {
     "name": "#%%\n"
    }
   }
  },
  {
   "cell_type": "code",
   "execution_count": 21,
   "outputs": [
    {
     "name": "stdout",
     "output_type": "stream",
     "text": [
      "<class 'pandas.core.series.Series'>\n",
      "<class 'pandas.core.series.Series'>\n",
      "如果函数返回多个值，结果是个df\n"
     ]
    },
    {
     "data": {
      "text/plain": "   one two\n0    4   2\n1    1   3\n2    5  23",
      "text/html": "<div>\n<style scoped>\n    .dataframe tbody tr th:only-of-type {\n        vertical-align: middle;\n    }\n\n    .dataframe tbody tr th {\n        vertical-align: top;\n    }\n\n    .dataframe thead th {\n        text-align: right;\n    }\n</style>\n<table border=\"1\" class=\"dataframe\">\n  <thead>\n    <tr style=\"text-align: right;\">\n      <th></th>\n      <th>one</th>\n      <th>two</th>\n    </tr>\n  </thead>\n  <tbody>\n    <tr>\n      <th>0</th>\n      <td>4</td>\n      <td>2</td>\n    </tr>\n    <tr>\n      <th>1</th>\n      <td>1</td>\n      <td>3</td>\n    </tr>\n    <tr>\n      <th>2</th>\n      <td>5</td>\n      <td>23</td>\n    </tr>\n  </tbody>\n</table>\n</div>"
     },
     "execution_count": 21,
     "metadata": {},
     "output_type": "execute_result"
    }
   ],
   "source": [
    "# raw 参数，bool，是否将输入看做ndarray，如果否的话看做series\n",
    "import pandas as pd\n",
    "\n",
    "data = pd.DataFrame([[4, \"2\"], [1, \"3\"]])\n",
    "data.columns = [\"one\", \"two\"]\n",
    "\n",
    "def apply_to_col(col):\n",
    "    print(type(col))\n",
    "    return col.iat[0],col.iat[1],col.iat[0]+col.iat[1]\n",
    "\n",
    "res_df=data.apply(func=apply_to_col,axis=0,raw=False)\n",
    "print(\"如果函数返回多个值，结果是个df\")\n",
    "res_df"
   ],
   "metadata": {
    "collapsed": false,
    "pycharm": {
     "name": "#%%\n"
    }
   }
  },
  {
   "cell_type": "code",
   "execution_count": 30,
   "outputs": [
    {
     "name": "stdout",
     "output_type": "stream",
     "text": [
      "\n",
      "result_type=\"expand\" 如果返回是列表，会展开成不同列，\n",
      "结果是个dataframe\n",
      "   0  1   2\n",
      "0  4  2  42\n",
      "1  1  3  13\n",
      "\n",
      "result_type=\"reduce\" 如果返回是列表，会合并，\n",
      "结果是个series\n",
      "0    (4, 2, 42)\n",
      "1    (1, 3, 13)\n",
      "dtype: object\n",
      "\n",
      "result_type=\"broadcast\" 如果返回结果会broadcast，\n",
      "结果是个dataframe\n",
      "  one two\n",
      "0  42  42\n",
      "1  13  13\n"
     ]
    }
   ],
   "source": [
    "# result_type\n",
    "import pandas as pd\n",
    "\n",
    "data = pd.DataFrame([[4, \"2\"], [1, \"3\"]])\n",
    "data.columns = [\"one\", \"two\"]\n",
    "\n",
    "def apply_to_row(row):\n",
    "    return row[0],row[1],str(row[0])+row[1]\n",
    "\n",
    "res_df=data.apply(func=apply_to_row,axis=1,result_type=\"expand\")\n",
    "print(\"\\nresult_type=\\\"expand\\\" 如果返回是列表，会展开成不同列，\\n结果是个dataframe\")\n",
    "print(res_df)\n",
    "\n",
    "res_df=data.apply(func=apply_to_row,axis=1,result_type=\"reduce\")\n",
    "print(\"\\nresult_type=\\\"reduce\\\" 如果返回是列表，会合并，\\n结果是个series\")\n",
    "print(res_df)\n",
    "\n",
    "\n",
    "def apply_to_row(row):\n",
    "    return str(row[0])+row[1]\n",
    "res_df=data.apply(func=apply_to_row,axis=1,result_type=\"broadcast\")\n",
    "print(\"\\nresult_type=\\\"broadcast\\\" 如果返回结果会broadcast成原本df的大小，\\n结果是个dataframe\")\n",
    "print(res_df)"
   ],
   "metadata": {
    "collapsed": false,
    "pycharm": {
     "name": "#%%\n"
    }
   }
  },
  {
   "cell_type": "code",
   "execution_count": null,
   "outputs": [],
   "source": [
    "\n"
   ],
   "metadata": {
    "collapsed": false,
    "pycharm": {
     "name": "#%%\n"
    }
   }
  }
 ],
 "metadata": {
  "kernelspec": {
   "display_name": "Python 3",
   "language": "python",
   "name": "python3"
  },
  "language_info": {
   "codemirror_mode": {
    "name": "ipython",
    "version": 2
   },
   "file_extension": ".py",
   "mimetype": "text/x-python",
   "name": "python",
   "nbconvert_exporter": "python",
   "pygments_lexer": "ipython2",
   "version": "2.7.6"
  }
 },
 "nbformat": 4,
 "nbformat_minor": 0
}
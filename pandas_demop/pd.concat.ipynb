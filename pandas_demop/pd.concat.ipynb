{
 "cells": [
  {
   "cell_type": "code",
   "execution_count": 9,
   "metadata": {
    "collapsed": true
   },
   "outputs": [
    {
     "data": {
      "text/plain": "          a         b         c         d\n0 -1.083511 -0.181084 -0.450084  1.517361\n1  0.017115  0.764340  0.274020  2.387146\n2  0.370530 -0.307866 -0.113099  1.414135\n0 -0.393742 -0.989591 -0.840147 -1.454116\n1  1.368823 -3.372421 -1.900511  0.330781\n2 -1.057622  1.003916 -1.708487  1.640702",
      "text/html": "<div>\n<style scoped>\n    .dataframe tbody tr th:only-of-type {\n        vertical-align: middle;\n    }\n\n    .dataframe tbody tr th {\n        vertical-align: top;\n    }\n\n    .dataframe thead th {\n        text-align: right;\n    }\n</style>\n<table border=\"1\" class=\"dataframe\">\n  <thead>\n    <tr style=\"text-align: right;\">\n      <th></th>\n      <th>a</th>\n      <th>b</th>\n      <th>c</th>\n      <th>d</th>\n    </tr>\n  </thead>\n  <tbody>\n    <tr>\n      <th>0</th>\n      <td>-1.083511</td>\n      <td>-0.181084</td>\n      <td>-0.450084</td>\n      <td>1.517361</td>\n    </tr>\n    <tr>\n      <th>1</th>\n      <td>0.017115</td>\n      <td>0.764340</td>\n      <td>0.274020</td>\n      <td>2.387146</td>\n    </tr>\n    <tr>\n      <th>2</th>\n      <td>0.370530</td>\n      <td>-0.307866</td>\n      <td>-0.113099</td>\n      <td>1.414135</td>\n    </tr>\n    <tr>\n      <th>0</th>\n      <td>-0.393742</td>\n      <td>-0.989591</td>\n      <td>-0.840147</td>\n      <td>-1.454116</td>\n    </tr>\n    <tr>\n      <th>1</th>\n      <td>1.368823</td>\n      <td>-3.372421</td>\n      <td>-1.900511</td>\n      <td>0.330781</td>\n    </tr>\n    <tr>\n      <th>2</th>\n      <td>-1.057622</td>\n      <td>1.003916</td>\n      <td>-1.708487</td>\n      <td>1.640702</td>\n    </tr>\n  </tbody>\n</table>\n</div>"
     },
     "execution_count": 9,
     "metadata": {},
     "output_type": "execute_result"
    }
   ],
   "source": [
    "# pd.concat\n",
    "import pandas as pd\n",
    "import numpy as np\n",
    "df1=pd.DataFrame(np.random.randn(3,4),columns=['a','b','c','d'])\n",
    "df2=pd.DataFrame(np.random.randn(3,4),columns=['a','b','c','d'])\n",
    "df3=pd.concat((df1,df2))\n",
    "df3"
   ]
  },
  {
   "cell_type": "code",
   "execution_count": 20,
   "outputs": [
    {
     "data": {
      "text/plain": "          a         b         c         d        a1        b1        c1\n0 -0.267026  1.356558 -1.401710  0.356671       NaN       NaN       NaN\n1  1.778928 -1.024867 -1.274916 -0.468888       NaN       NaN       NaN\n2  0.037969 -1.657198 -1.001347 -0.374836       NaN       NaN       NaN\n2       NaN       NaN       NaN  2.297578 -0.271638 -1.128641  0.044169\n3       NaN       NaN       NaN -1.622027  1.111997  0.169277 -0.716144\n4       NaN       NaN       NaN  0.390085 -2.042652 -0.137004  0.363239",
      "text/html": "<div>\n<style scoped>\n    .dataframe tbody tr th:only-of-type {\n        vertical-align: middle;\n    }\n\n    .dataframe tbody tr th {\n        vertical-align: top;\n    }\n\n    .dataframe thead th {\n        text-align: right;\n    }\n</style>\n<table border=\"1\" class=\"dataframe\">\n  <thead>\n    <tr style=\"text-align: right;\">\n      <th></th>\n      <th>a</th>\n      <th>b</th>\n      <th>c</th>\n      <th>d</th>\n      <th>a1</th>\n      <th>b1</th>\n      <th>c1</th>\n    </tr>\n  </thead>\n  <tbody>\n    <tr>\n      <th>0</th>\n      <td>-0.267026</td>\n      <td>1.356558</td>\n      <td>-1.401710</td>\n      <td>0.356671</td>\n      <td>NaN</td>\n      <td>NaN</td>\n      <td>NaN</td>\n    </tr>\n    <tr>\n      <th>1</th>\n      <td>1.778928</td>\n      <td>-1.024867</td>\n      <td>-1.274916</td>\n      <td>-0.468888</td>\n      <td>NaN</td>\n      <td>NaN</td>\n      <td>NaN</td>\n    </tr>\n    <tr>\n      <th>2</th>\n      <td>0.037969</td>\n      <td>-1.657198</td>\n      <td>-1.001347</td>\n      <td>-0.374836</td>\n      <td>NaN</td>\n      <td>NaN</td>\n      <td>NaN</td>\n    </tr>\n    <tr>\n      <th>2</th>\n      <td>NaN</td>\n      <td>NaN</td>\n      <td>NaN</td>\n      <td>2.297578</td>\n      <td>-0.271638</td>\n      <td>-1.128641</td>\n      <td>0.044169</td>\n    </tr>\n    <tr>\n      <th>3</th>\n      <td>NaN</td>\n      <td>NaN</td>\n      <td>NaN</td>\n      <td>-1.622027</td>\n      <td>1.111997</td>\n      <td>0.169277</td>\n      <td>-0.716144</td>\n    </tr>\n    <tr>\n      <th>4</th>\n      <td>NaN</td>\n      <td>NaN</td>\n      <td>NaN</td>\n      <td>0.390085</td>\n      <td>-2.042652</td>\n      <td>-0.137004</td>\n      <td>0.363239</td>\n    </tr>\n  </tbody>\n</table>\n</div>"
     },
     "execution_count": 20,
     "metadata": {},
     "output_type": "execute_result"
    }
   ],
   "source": [
    "# axis\n",
    "import pandas as pd\n",
    "import numpy as np\n",
    "df1=pd.DataFrame(np.random.randn(3,4),columns=['a','b','c','d'],index=range(3))\n",
    "df2=pd.DataFrame(np.random.randn(3,4),columns=['a1','b1','c1','d'],index=range(2,5))\n",
    "df3=pd.concat((df1,df2),axis=1)\n",
    "df3"
   ],
   "metadata": {
    "collapsed": false,
    "pycharm": {
     "name": "#%%\n"
    }
   }
  },
  {
   "cell_type": "markdown",
   "source": [
    "pd的concat和join差不太多，如果`axis=1`按照列连接，那么结果是两个df的相同的index的行会拼成长行\n",
    "pd的concat和join差不太多，如果`axis=0`按照行连接，那么结果是两个df的相同的column会拼成长列"
   ],
   "metadata": {
    "collapsed": false,
    "pycharm": {
     "name": "#%% md\n"
    }
   }
  },
  {
   "cell_type": "code",
   "execution_count": 15,
   "outputs": [
    {
     "name": "stdout",
     "output_type": "stream",
     "text": [
      "          a         b         c         d\n",
      "0 -0.122941  1.976797  0.794050 -0.872766\n",
      "1  0.433476 -0.522690 -1.696731  0.597313\n",
      "2  1.549514 -1.234578  0.797289 -1.290669\n",
      "3  0.540897  0.852974 -0.107545  0.592963\n",
      "4  0.832803  0.624818  0.485360 -1.225558\n",
      "5  0.990799 -0.843381 -0.807105  0.042075\n",
      "          0         1         2         3         4         5         6  \\\n",
      "0 -0.179264  0.925595  0.852629 -0.790640 -1.260939  1.232942 -1.369797   \n",
      "1 -0.516848  0.982403  0.996948  0.268578 -1.023261  0.156147 -0.051059   \n",
      "2  0.468082  0.427007  0.222243 -0.964614 -1.439915  0.624484  0.946398   \n",
      "\n",
      "          7  \n",
      "0  0.980104  \n",
      "1 -2.410296  \n",
      "2 -2.315322  \n"
     ]
    }
   ],
   "source": [
    "# ignore_index\n",
    "import pandas as pd\n",
    "import numpy as np\n",
    "df1=pd.DataFrame(np.random.randn(3,4),columns=['a','b','c','d'])\n",
    "df2=pd.DataFrame(np.random.randn(3,4),columns=['a','b','c','d'])\n",
    "df3=pd.concat((df1,df2),axis=0,ignore_index=True)\n",
    "print(df3)\n",
    "\n",
    "df1=pd.DataFrame(np.random.randn(3,4),columns=['a','b','c','d'])\n",
    "df2=pd.DataFrame(np.random.randn(3,4),columns=['a','b','c','d'])\n",
    "df3=pd.concat((df1,df2),axis=1,ignore_index=True)\n",
    "print(df3)\n"
   ],
   "metadata": {
    "collapsed": false,
    "pycharm": {
     "name": "#%%\n"
    }
   }
  },
  {
   "cell_type": "markdown",
   "source": [
    "当`axis=0`且`ignore_index=True`的时候，此时按行连接，`ignore_index=True`的含义是，生成的df3的index会重新排列，不使用原来的index合并起来作为新的index\n",
    "可以看到df3的index是0~5而非0，1，2，0，1，2\n"
   ],
   "metadata": {
    "collapsed": false,
    "pycharm": {
     "name": "#%% md\n"
    }
   }
  }
 ],
 "metadata": {
  "kernelspec": {
   "display_name": "Python 3",
   "language": "python",
   "name": "python3"
  },
  "language_info": {
   "codemirror_mode": {
    "name": "ipython",
    "version": 2
   },
   "file_extension": ".py",
   "mimetype": "text/x-python",
   "name": "python",
   "nbconvert_exporter": "python",
   "pygments_lexer": "ipython2",
   "version": "2.7.6"
  }
 },
 "nbformat": 4,
 "nbformat_minor": 0
}
{
 "cells": [
  {
   "cell_type": "markdown",
   "source": [
    "下面讲解stack和unstack"
   ],
   "metadata": {
    "collapsed": false
   }
  },
  {
   "cell_type": "code",
   "execution_count": null,
   "outputs": [],
   "source": [
    "# unstack\n",
    "import pandas as pd\n",
    "import numpy as np\n",
    "\n",
    "data_arr= np.concatenate((np.arange(15).reshape((5,3)),np.array([0,1,0,1,0]).reshape([-1,1])),axis=1)\n",
    "\n",
    "# pandas的dataframe有两个索引维度，一个是index一个是column，下面的例子里，这个df的index叫做state，这个df的column被命名为number\n",
    "\n",
    "data = pd.DataFrame(data_arr,index=pd.Index([\"a\",\"a\",\"b\",\"b\",\"c\"],name='state')\n",
    "                   ,columns=pd.Index(['one','two','three',\"date\"],name='number'))\n",
    "data\n"
   ],
   "metadata": {
    "collapsed": false,
    "pycharm": {
     "name": "#%%\n"
    }
   }
  },
  {
   "cell_type": "code",
   "execution_count": null,
   "outputs": [],
   "source": [
    "reset_data=data.reset_index()\n",
    "reset_data"
   ],
   "metadata": {
    "collapsed": false,
    "pycharm": {
     "name": "#%%\n"
    }
   }
  },
  {
   "cell_type": "code",
   "execution_count": null,
   "outputs": [],
   "source": [
    "print(reset_data.index)\n",
    "print(reset_data.columns)\n",
    "\n",
    "new_index_data=reset_data.set_index([\"state\",\"date\"])\n",
    "print(new_index_data.index)\n",
    "new_index_data"
   ],
   "metadata": {
    "collapsed": false,
    "pycharm": {
     "name": "#%%\n"
    }
   }
  },
  {
   "cell_type": "code",
   "execution_count": null,
   "outputs": [],
   "source": [
    "# 解堆叠，level=-1代表从最内层解开，这个操作相当于行转列\n",
    "new_index_data.unstack(level=-1)"
   ],
   "metadata": {
    "collapsed": false,
    "pycharm": {
     "name": "#%%\n"
    }
   }
  },
  {
   "cell_type": "code",
   "execution_count": null,
   "outputs": [],
   "source": [
    "# stack\n",
    "import pandas as pd\n",
    "import numpy as np\n",
    "\n",
    "data_arr= np.concatenate((np.arange(15).reshape((5,3)),np.array([0,1,0,1,0]).reshape([-1,1])),axis=1)\n",
    "\n",
    "data = pd.DataFrame(data_arr,index=pd.Index([\"a\",\"a\",\"b\",\"b\",\"c\"],name='state')\n",
    "                   ,columns=pd.Index(['one','two','three',\"date\"],name='number'))\n",
    "data"
   ],
   "metadata": {
    "collapsed": false,
    "pycharm": {
     "name": "#%%\n"
    }
   }
  },
  {
   "cell_type": "code",
   "execution_count": null,
   "outputs": [],
   "source": [
    "# 堆叠，相当于列转行\n",
    "data.stack()\n",
    "\n"
   ],
   "metadata": {
    "collapsed": false,
    "pycharm": {
     "name": "#%%\n"
    }
   }
  }
 ],
 "metadata": {
  "kernelspec": {
   "display_name": "Python 3",
   "language": "python",
   "name": "python3"
  },
  "language_info": {
   "codemirror_mode": {
    "name": "ipython",
    "version": 2
   },
   "file_extension": ".py",
   "mimetype": "text/x-python",
   "name": "python",
   "nbconvert_exporter": "python",
   "pygments_lexer": "ipython2",
   "version": "2.7.6"
  }
 },
 "nbformat": 4,
 "nbformat_minor": 0
}
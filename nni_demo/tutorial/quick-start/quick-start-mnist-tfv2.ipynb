{
 "cells": [
  {
   "cell_type": "code",
   "execution_count": null,
   "metadata": {
    "collapsed": true
   },
   "outputs": [],
   "source": [
    "\n",
    "import torch\n",
    "from torchvision\n",
    "\n",
    "def main(args):\n",
    "    # 下载数据\n",
    "    train_loader = torch.utils.data.DataLoader(datasets.MNIST(...), batch_size=args['batch_size'], shuffle=True)\n",
    "    test_loader = torch.tuils.data.DataLoader(datasets.MNIST(...), batch_size=1000, shuffle=True)\n",
    "    # 构建模型\n",
    "    model = Net(hidden_size=args['hidden_size'])\n",
    "    optimizer = optim.SGD(model.parameters(), lr=args['lr'], momentum=args['momentum'])\n",
    "    # 训练\n",
    "    for epoch in range(10):\n",
    "        train(args, model, device, train_loader, optimizer, epoch)\n",
    "        test_acc = test(args, model, device, test_loader)\n",
    "        print(test_acc)\n",
    "    print('final accuracy:', test_acc)\n",
    "\n",
    "if __name__ == '__main__':\n",
    "    params = {\n",
    "        'batch_size': 32,\n",
    "        'hidden_size': 128,\n",
    "        'lr': 0.001,\n",
    "        'momentum': 0.5\n",
    "    }\n",
    "    main(params)\n",
    "\n"
   ]
  }
 ],
 "metadata": {
  "kernelspec": {
   "display_name": "Python 3",
   "language": "python",
   "name": "python3"
  },
  "language_info": {
   "codemirror_mode": {
    "name": "ipython",
    "version": 2
   },
   "file_extension": ".py",
   "mimetype": "text/x-python",
   "name": "python",
   "nbconvert_exporter": "python",
   "pygments_lexer": "ipython2",
   "version": "2.7.6"
  }
 },
 "nbformat": 4,
 "nbformat_minor": 0
}
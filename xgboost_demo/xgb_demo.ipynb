{
 "cells": [
  {
   "cell_type": "code",
   "execution_count": 1,
   "metadata": {
    "collapsed": true
   },
   "outputs": [],
   "source": [
    "from sklearn import datasets\n",
    "\n",
    "iris=datasets.load_iris()"
   ]
  },
  {
   "cell_type": "code",
   "execution_count": 3,
   "outputs": [],
   "source": [
    "X = iris.data\n",
    "y = iris.target"
   ],
   "metadata": {
    "collapsed": false,
    "pycharm": {
     "name": "#%%\n"
    }
   }
  },
  {
   "cell_type": "code",
   "execution_count": 4,
   "outputs": [],
   "source": [
    "\n",
    "\n",
    "import xgboost as xgb\n",
    "\n",
    "train_d_matrix=xgb.DMatrix(data=X,label=y)\n",
    "\n",
    "params={\n",
    "    \"booster\":\"gbtree\",\n",
    "    \"max_depth\":3\n",
    "}\n",
    "\n",
    "xgb_model=xgb.train(params=params,dtrain=train_d_matrix)\n"
   ],
   "metadata": {
    "collapsed": false,
    "pycharm": {
     "name": "#%%\n"
    }
   }
  },
  {
   "cell_type": "code",
   "execution_count": 9,
   "outputs": [
    {
     "data": {
      "text/plain": "{'f2': 19, 'f3': 14, 'f1': 3, 'f0': 4}"
     },
     "execution_count": 9,
     "metadata": {},
     "output_type": "execute_result"
    }
   ],
   "source": [
    "xgb_model.get_fscore()"
   ],
   "metadata": {
    "collapsed": false,
    "pycharm": {
     "name": "#%%\n"
    }
   }
  },
  {
   "cell_type": "code",
   "execution_count": 11,
   "outputs": [
    {
     "data": {
      "text/plain": "{'f2': 19, 'f3': 14, 'f1': 3, 'f0': 4}"
     },
     "execution_count": 11,
     "metadata": {},
     "output_type": "execute_result"
    }
   ],
   "source": [
    "xgb_model.get_score(importance_type='gain')"
   ],
   "metadata": {
    "collapsed": false,
    "pycharm": {
     "name": "#%%\n"
    }
   }
  },
  {
   "cell_type": "code",
   "execution_count": 13,
   "outputs": [],
   "source": [
    "trees_df=xgb_model.trees_to_dataframe()"
   ],
   "metadata": {
    "collapsed": false,
    "pycharm": {
     "name": "#%%\n"
    }
   }
  },
  {
   "cell_type": "code",
   "execution_count": 14,
   "outputs": [
    {
     "data": {
      "text/plain": "   Tree  Node   ID Feature  Split  Yes   No Missing       Gain  Cover\n0     0     0  0-0      f2   2.45  0-1  0-2     0-1  74.013145  150.0\n1     0     1  0-1    Leaf    NaN  NaN  NaN     NaN  -0.147059   50.0\n2     0     2  0-2      f3   1.75  0-3  0-4     0-3  17.991257  100.0\n3     0     3  0-3      f2   4.95  0-5  0-6     0-5   1.136921   54.0\n4     0     4  0-4    Leaf    NaN  NaN  NaN     NaN   0.434043   46.0\n5     0     5  0-5    Leaf    NaN  NaN  NaN     NaN   0.153061   48.0\n6     0     6  0-6    Leaf    NaN  NaN  NaN     NaN   0.300000    6.0\n7     1     0  1-0      f2   2.45  1-1  1-2     1-1  37.086998  150.0\n8     1     1  1-1    Leaf    NaN  NaN  NaN     NaN  -0.103806   50.0\n9     1     2  1-2      f2   4.85  1-3  1-4     1-3   9.049057  100.0",
      "text/html": "<div>\n<style scoped>\n    .dataframe tbody tr th:only-of-type {\n        vertical-align: middle;\n    }\n\n    .dataframe tbody tr th {\n        vertical-align: top;\n    }\n\n    .dataframe thead th {\n        text-align: right;\n    }\n</style>\n<table border=\"1\" class=\"dataframe\">\n  <thead>\n    <tr style=\"text-align: right;\">\n      <th></th>\n      <th>Tree</th>\n      <th>Node</th>\n      <th>ID</th>\n      <th>Feature</th>\n      <th>Split</th>\n      <th>Yes</th>\n      <th>No</th>\n      <th>Missing</th>\n      <th>Gain</th>\n      <th>Cover</th>\n    </tr>\n  </thead>\n  <tbody>\n    <tr>\n      <th>0</th>\n      <td>0</td>\n      <td>0</td>\n      <td>0-0</td>\n      <td>f2</td>\n      <td>2.45</td>\n      <td>0-1</td>\n      <td>0-2</td>\n      <td>0-1</td>\n      <td>74.013145</td>\n      <td>150.0</td>\n    </tr>\n    <tr>\n      <th>1</th>\n      <td>0</td>\n      <td>1</td>\n      <td>0-1</td>\n      <td>Leaf</td>\n      <td>NaN</td>\n      <td>NaN</td>\n      <td>NaN</td>\n      <td>NaN</td>\n      <td>-0.147059</td>\n      <td>50.0</td>\n    </tr>\n    <tr>\n      <th>2</th>\n      <td>0</td>\n      <td>2</td>\n      <td>0-2</td>\n      <td>f3</td>\n      <td>1.75</td>\n      <td>0-3</td>\n      <td>0-4</td>\n      <td>0-3</td>\n      <td>17.991257</td>\n      <td>100.0</td>\n    </tr>\n    <tr>\n      <th>3</th>\n      <td>0</td>\n      <td>3</td>\n      <td>0-3</td>\n      <td>f2</td>\n      <td>4.95</td>\n      <td>0-5</td>\n      <td>0-6</td>\n      <td>0-5</td>\n      <td>1.136921</td>\n      <td>54.0</td>\n    </tr>\n    <tr>\n      <th>4</th>\n      <td>0</td>\n      <td>4</td>\n      <td>0-4</td>\n      <td>Leaf</td>\n      <td>NaN</td>\n      <td>NaN</td>\n      <td>NaN</td>\n      <td>NaN</td>\n      <td>0.434043</td>\n      <td>46.0</td>\n    </tr>\n    <tr>\n      <th>5</th>\n      <td>0</td>\n      <td>5</td>\n      <td>0-5</td>\n      <td>Leaf</td>\n      <td>NaN</td>\n      <td>NaN</td>\n      <td>NaN</td>\n      <td>NaN</td>\n      <td>0.153061</td>\n      <td>48.0</td>\n    </tr>\n    <tr>\n      <th>6</th>\n      <td>0</td>\n      <td>6</td>\n      <td>0-6</td>\n      <td>Leaf</td>\n      <td>NaN</td>\n      <td>NaN</td>\n      <td>NaN</td>\n      <td>NaN</td>\n      <td>0.300000</td>\n      <td>6.0</td>\n    </tr>\n    <tr>\n      <th>7</th>\n      <td>1</td>\n      <td>0</td>\n      <td>1-0</td>\n      <td>f2</td>\n      <td>2.45</td>\n      <td>1-1</td>\n      <td>1-2</td>\n      <td>1-1</td>\n      <td>37.086998</td>\n      <td>150.0</td>\n    </tr>\n    <tr>\n      <th>8</th>\n      <td>1</td>\n      <td>1</td>\n      <td>1-1</td>\n      <td>Leaf</td>\n      <td>NaN</td>\n      <td>NaN</td>\n      <td>NaN</td>\n      <td>NaN</td>\n      <td>-0.103806</td>\n      <td>50.0</td>\n    </tr>\n    <tr>\n      <th>9</th>\n      <td>1</td>\n      <td>2</td>\n      <td>1-2</td>\n      <td>f2</td>\n      <td>4.85</td>\n      <td>1-3</td>\n      <td>1-4</td>\n      <td>1-3</td>\n      <td>9.049057</td>\n      <td>100.0</td>\n    </tr>\n  </tbody>\n</table>\n</div>"
     },
     "execution_count": 14,
     "metadata": {},
     "output_type": "execute_result"
    }
   ],
   "source": [
    "trees_df.head(10)"
   ],
   "metadata": {
    "collapsed": false,
    "pycharm": {
     "name": "#%%\n"
    }
   }
  },
  {
   "cell_type": "code",
   "execution_count": null,
   "outputs": [],
   "source": [
    "\n"
   ],
   "metadata": {
    "collapsed": false,
    "pycharm": {
     "name": "#%%\n"
    }
   }
  }
 ],
 "metadata": {
  "kernelspec": {
   "display_name": "Python 3",
   "language": "python",
   "name": "python3"
  },
  "language_info": {
   "codemirror_mode": {
    "name": "ipython",
    "version": 2
   },
   "file_extension": ".py",
   "mimetype": "text/x-python",
   "name": "python",
   "nbconvert_exporter": "python",
   "pygments_lexer": "ipython2",
   "version": "2.7.6"
  }
 },
 "nbformat": 4,
 "nbformat_minor": 0
}
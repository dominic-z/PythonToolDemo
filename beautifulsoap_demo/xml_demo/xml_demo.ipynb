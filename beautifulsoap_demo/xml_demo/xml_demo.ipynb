{
 "cells": [
  {
   "cell_type": "code",
   "execution_count": 1,
   "metadata": {
    "collapsed": true
   },
   "outputs": [],
   "source": [
    "\n",
    "import bs4\n",
    "from bs4 import BeautifulSoup\n",
    "import lxml\n",
    "\n",
    "with open(\"data/city.xml\") as fp:\n",
    "    soup = BeautifulSoup(fp, \"xml\")"
   ]
  },
  {
   "cell_type": "code",
   "execution_count": 2,
   "outputs": [],
   "source": [
    "def find_tag_children(node):\n",
    "    tags=list()\n",
    "    for child in node.children:\n",
    "        if type(child)==bs4.element.Tag:\n",
    "            tags.append(child)\n",
    "    return tags"
   ],
   "metadata": {
    "collapsed": false,
    "pycharm": {
     "name": "#%%\n"
    }
   }
  },
  {
   "cell_type": "code",
   "execution_count": 3,
   "outputs": [
    {
     "name": "stdout",
     "output_type": "stream",
     "text": [
      "3\n",
      "<class 'bs4.element.Tag'>\n",
      "<class 'bs4.element.Tag'>\n",
      "<class 'bs4.element.Tag'>\n"
     ]
    }
   ],
   "source": [
    "children=find_tag_children(soup.contents[0])\n",
    "print(len(children))\n",
    "for i in children:\n",
    "    print(type(i))"
   ],
   "metadata": {
    "collapsed": false,
    "pycharm": {
     "name": "#%%\n"
    }
   }
  },
  {
   "cell_type": "code",
   "execution_count": 4,
   "outputs": [
    {
     "name": "stdout",
     "output_type": "stream",
     "text": [
      "<targeting cname=\"巢湖市\" deprecated_code=\"103\" id=\"2000504\" name=\"341400\" sname=\"巢湖\" status=\"deprecated\">\n",
      "</targeting>\n"
     ]
    }
   ],
   "source": [
    "from collections import namedtuple\n",
    "\n",
    "ValueT=namedtuple('ValueT',['cname','old_code','sng_code','gb_code','gb_code_path','status'])\n",
    "\n",
    "def dfs(node:bs4.element.Tag,paths:list,values:list):\n",
    "    cname=node.get('cname')\n",
    "    old_code=node.get('name')\n",
    "    sng_code=node.get('deprecated_code')\n",
    "    gb_code=node.get('gb_code')\n",
    "\n",
    "    gb_code_path=';'.join(paths) if len(paths)!=0 else None\n",
    "    status=0 if node.get('status')=='active' else 1\n",
    "\n",
    "    value_t=ValueT(cname,old_code,sng_code,gb_code,gb_code_path,status)\n",
    "    if gb_code is not None and cname is not None:\n",
    "        values.append(value_t)\n",
    "    else:\n",
    "        print(node)\n",
    "\n",
    "    paths.append(gb_code)\n",
    "    children=find_tag_children(node)\n",
    "    for child in children:\n",
    "        dfs(child,paths,values)\n",
    "    paths.pop()\n",
    "root =soup.contents[0]\n",
    "paths=[]\n",
    "values=[]\n",
    "provinces=find_tag_children(root)\n",
    "for province in provinces:\n",
    "    dfs(province,paths,values)\n",
    "\n"
   ],
   "metadata": {
    "collapsed": false,
    "pycharm": {
     "name": "#%%\n"
    }
   }
  },
  {
   "cell_type": "code",
   "execution_count": 5,
   "outputs": [],
   "source": [
    "from typing import List\n",
    "def make_sql(values:List[ValueT]):\n",
    "    sql_template=\"\"\"\n",
    "use ndmp;\n",
    "insert into rulelab_hierarchical_area\n",
    "(cname,old_code,sng_code,gb_code,gb_code_path,status)\n",
    "values {}\n",
    "    \"\"\"\n",
    "    sql_values=[]\n",
    "    for value_t in values:\n",
    "        cname=f\"'{value_t.cname}'\"\n",
    "        old_code=f\"{value_t.old_code}\" if value_t.old_code is not None else 'null'\n",
    "        sng_code=f\"{value_t.sng_code}\" if value_t.sng_code is not None else 'null'\n",
    "        gb_code=f\"{value_t.gb_code}\"\n",
    "        gb_code_path=f\"'{value_t.gb_code_path}'\" if value_t.gb_code_path is not None else 'null'\n",
    "        status=f\"'{value_t.status}'\"\n",
    "\n",
    "        sql_values.append(\"\\n(\"+\",\".join([cname,old_code,sng_code,gb_code,gb_code_path,status])+\")\")\n",
    "    return sql_template.strip().format(\",\".join(sql_values))\n",
    "\n",
    "\n",
    "\n",
    "sql=make_sql(values)\n"
   ],
   "metadata": {
    "collapsed": false,
    "pycharm": {
     "name": "#%%\n"
    }
   }
  },
  {
   "cell_type": "code",
   "execution_count": 6,
   "outputs": [],
   "source": [
    "with open('data/insert.sql','w') as writer:\n",
    "    writer.writelines(sql)"
   ],
   "metadata": {
    "collapsed": false,
    "pycharm": {
     "name": "#%%\n"
    }
   }
  },
  {
   "cell_type": "code",
   "execution_count": 81,
   "outputs": [
    {
     "data": {
      "text/plain": "ValueT(cname='中国未知', old_code='980000', sng_code='362', gb_code='0156', gb_code_path=None, status=0)"
     },
     "execution_count": 81,
     "metadata": {},
     "output_type": "execute_result"
    }
   ],
   "source": [
    "values[0]"
   ],
   "metadata": {
    "collapsed": false,
    "pycharm": {
     "name": "#%%\n"
    }
   }
  },
  {
   "cell_type": "code",
   "execution_count": 57,
   "outputs": [],
   "source": [],
   "metadata": {
    "collapsed": false,
    "pycharm": {
     "name": "#%%\n"
    }
   }
  },
  {
   "cell_type": "code",
   "execution_count": 61,
   "outputs": [],
   "source": [],
   "metadata": {
    "collapsed": false,
    "pycharm": {
     "name": "#%%\n"
    }
   }
  },
  {
   "cell_type": "code",
   "execution_count": null,
   "outputs": [],
   "source": [
    "\n"
   ],
   "metadata": {
    "collapsed": false,
    "pycharm": {
     "name": "#%%\n"
    }
   }
  }
 ],
 "metadata": {
  "kernelspec": {
   "display_name": "Python 3",
   "language": "python",
   "name": "python3"
  },
  "language_info": {
   "codemirror_mode": {
    "name": "ipython",
    "version": 2
   },
   "file_extension": ".py",
   "mimetype": "text/x-python",
   "name": "python",
   "nbconvert_exporter": "python",
   "pygments_lexer": "ipython2",
   "version": "2.7.6"
  }
 },
 "nbformat": 4,
 "nbformat_minor": 0
}